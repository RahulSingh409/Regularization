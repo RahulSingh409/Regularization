{
 "cells": [
  {
   "cell_type": "markdown",
   "id": "3e430453",
   "metadata": {},
   "source": [
    "# Regularization with SciKit-Learn"
   ]
  },
  {
   "cell_type": "markdown",
   "id": "180e0934",
   "metadata": {},
   "source": [
    "# Import Libraries"
   ]
  },
  {
   "cell_type": "code",
   "execution_count": 1,
   "id": "bcaa059e",
   "metadata": {
    "ExecuteTime": {
     "end_time": "2022-02-16T07:58:14.228888Z",
     "start_time": "2022-02-16T07:57:51.497234Z"
    }
   },
   "outputs": [],
   "source": [
    "import numpy as np                                                   # array\n",
    "import pandas as pd                                                  #data cleaning\n",
    "import matplotlib.pyplot as plt                                      #Data visualization\n",
    "import seaborn as sns                                                #Data visualization         \n",
    "from sklearn.model_selection import train_test_split                 #Train test split \n",
    "from sklearn.linear_model import Ridge                               #Ridge Regularization\n",
    "from sklearn.metrics import mean_absolute_error,mean_squared_error   #Accuracy check with error   \n",
    "from sklearn.linear_model import RidgeCV                             #Ridge regression with built-in cross-validation. \n",
    "from sklearn.linear_model import LassoCV                             #Lasso regression with built-in cross-validation. \n",
    "from sklearn.linear_model import ElasticNetCV                        #ElasticNetCV regression with built-in cross-validation.  \n",
    "from sklearn.model_selection import cross_val_score \n",
    "from sklearn import datasets \n",
    "from sklearn.preprocessing import StandardScaler,normalize"
   ]
  },
  {
   "cell_type": "markdown",
   "id": "4429f9a4",
   "metadata": {},
   "source": [
    "## Import Dataset"
   ]
  },
  {
   "cell_type": "code",
   "execution_count": 2,
   "id": "3bc4b0fc",
   "metadata": {
    "ExecuteTime": {
     "end_time": "2022-02-16T07:58:14.428792Z",
     "start_time": "2022-02-16T07:58:14.236893Z"
    }
   },
   "outputs": [],
   "source": [
    "# Loading pre-defined Boston Dataset\n",
    "boston_dataset = datasets.load_boston()\n",
    "#print(boston_dataset.DESCR)"
   ]
  },
  {
   "cell_type": "code",
   "execution_count": 3,
   "id": "4aa27987",
   "metadata": {
    "ExecuteTime": {
     "end_time": "2022-02-16T07:58:14.459189Z",
     "start_time": "2022-02-16T07:58:14.434153Z"
    }
   },
   "outputs": [],
   "source": [
    "#Load the data and divide into X and Y varaiable\n",
    "boston_pd = pd.DataFrame(boston_dataset.data) \n",
    "boston_pd.columns = boston_dataset.feature_names \n",
    "boston_pd_target = np.asarray(boston_dataset.target) \n",
    "boston_pd['House Price'] = pd.Series(boston_pd_target) "
   ]
  },
  {
   "cell_type": "code",
   "execution_count": 4,
   "id": "7f8daa81",
   "metadata": {
    "ExecuteTime": {
     "end_time": "2022-02-16T07:58:14.629218Z",
     "start_time": "2022-02-16T07:58:14.463181Z"
    }
   },
   "outputs": [
    {
     "data": {
      "text/html": [
       "<div>\n",
       "<style scoped>\n",
       "    .dataframe tbody tr th:only-of-type {\n",
       "        vertical-align: middle;\n",
       "    }\n",
       "\n",
       "    .dataframe tbody tr th {\n",
       "        vertical-align: top;\n",
       "    }\n",
       "\n",
       "    .dataframe thead th {\n",
       "        text-align: right;\n",
       "    }\n",
       "</style>\n",
       "<table border=\"1\" class=\"dataframe\">\n",
       "  <thead>\n",
       "    <tr style=\"text-align: right;\">\n",
       "      <th></th>\n",
       "      <th>CRIM</th>\n",
       "      <th>ZN</th>\n",
       "      <th>INDUS</th>\n",
       "      <th>CHAS</th>\n",
       "      <th>NOX</th>\n",
       "      <th>RM</th>\n",
       "      <th>AGE</th>\n",
       "      <th>DIS</th>\n",
       "      <th>RAD</th>\n",
       "      <th>TAX</th>\n",
       "      <th>PTRATIO</th>\n",
       "      <th>B</th>\n",
       "      <th>LSTAT</th>\n",
       "      <th>House Price</th>\n",
       "    </tr>\n",
       "  </thead>\n",
       "  <tbody>\n",
       "    <tr>\n",
       "      <th>0</th>\n",
       "      <td>0.00632</td>\n",
       "      <td>18.0</td>\n",
       "      <td>2.31</td>\n",
       "      <td>0.0</td>\n",
       "      <td>0.538</td>\n",
       "      <td>6.575</td>\n",
       "      <td>65.2</td>\n",
       "      <td>4.0900</td>\n",
       "      <td>1.0</td>\n",
       "      <td>296.0</td>\n",
       "      <td>15.3</td>\n",
       "      <td>396.90</td>\n",
       "      <td>4.98</td>\n",
       "      <td>24.0</td>\n",
       "    </tr>\n",
       "    <tr>\n",
       "      <th>1</th>\n",
       "      <td>0.02731</td>\n",
       "      <td>0.0</td>\n",
       "      <td>7.07</td>\n",
       "      <td>0.0</td>\n",
       "      <td>0.469</td>\n",
       "      <td>6.421</td>\n",
       "      <td>78.9</td>\n",
       "      <td>4.9671</td>\n",
       "      <td>2.0</td>\n",
       "      <td>242.0</td>\n",
       "      <td>17.8</td>\n",
       "      <td>396.90</td>\n",
       "      <td>9.14</td>\n",
       "      <td>21.6</td>\n",
       "    </tr>\n",
       "    <tr>\n",
       "      <th>2</th>\n",
       "      <td>0.02729</td>\n",
       "      <td>0.0</td>\n",
       "      <td>7.07</td>\n",
       "      <td>0.0</td>\n",
       "      <td>0.469</td>\n",
       "      <td>7.185</td>\n",
       "      <td>61.1</td>\n",
       "      <td>4.9671</td>\n",
       "      <td>2.0</td>\n",
       "      <td>242.0</td>\n",
       "      <td>17.8</td>\n",
       "      <td>392.83</td>\n",
       "      <td>4.03</td>\n",
       "      <td>34.7</td>\n",
       "    </tr>\n",
       "    <tr>\n",
       "      <th>3</th>\n",
       "      <td>0.03237</td>\n",
       "      <td>0.0</td>\n",
       "      <td>2.18</td>\n",
       "      <td>0.0</td>\n",
       "      <td>0.458</td>\n",
       "      <td>6.998</td>\n",
       "      <td>45.8</td>\n",
       "      <td>6.0622</td>\n",
       "      <td>3.0</td>\n",
       "      <td>222.0</td>\n",
       "      <td>18.7</td>\n",
       "      <td>394.63</td>\n",
       "      <td>2.94</td>\n",
       "      <td>33.4</td>\n",
       "    </tr>\n",
       "    <tr>\n",
       "      <th>4</th>\n",
       "      <td>0.06905</td>\n",
       "      <td>0.0</td>\n",
       "      <td>2.18</td>\n",
       "      <td>0.0</td>\n",
       "      <td>0.458</td>\n",
       "      <td>7.147</td>\n",
       "      <td>54.2</td>\n",
       "      <td>6.0622</td>\n",
       "      <td>3.0</td>\n",
       "      <td>222.0</td>\n",
       "      <td>18.7</td>\n",
       "      <td>396.90</td>\n",
       "      <td>5.33</td>\n",
       "      <td>36.2</td>\n",
       "    </tr>\n",
       "    <tr>\n",
       "      <th>...</th>\n",
       "      <td>...</td>\n",
       "      <td>...</td>\n",
       "      <td>...</td>\n",
       "      <td>...</td>\n",
       "      <td>...</td>\n",
       "      <td>...</td>\n",
       "      <td>...</td>\n",
       "      <td>...</td>\n",
       "      <td>...</td>\n",
       "      <td>...</td>\n",
       "      <td>...</td>\n",
       "      <td>...</td>\n",
       "      <td>...</td>\n",
       "      <td>...</td>\n",
       "    </tr>\n",
       "    <tr>\n",
       "      <th>501</th>\n",
       "      <td>0.06263</td>\n",
       "      <td>0.0</td>\n",
       "      <td>11.93</td>\n",
       "      <td>0.0</td>\n",
       "      <td>0.573</td>\n",
       "      <td>6.593</td>\n",
       "      <td>69.1</td>\n",
       "      <td>2.4786</td>\n",
       "      <td>1.0</td>\n",
       "      <td>273.0</td>\n",
       "      <td>21.0</td>\n",
       "      <td>391.99</td>\n",
       "      <td>9.67</td>\n",
       "      <td>22.4</td>\n",
       "    </tr>\n",
       "    <tr>\n",
       "      <th>502</th>\n",
       "      <td>0.04527</td>\n",
       "      <td>0.0</td>\n",
       "      <td>11.93</td>\n",
       "      <td>0.0</td>\n",
       "      <td>0.573</td>\n",
       "      <td>6.120</td>\n",
       "      <td>76.7</td>\n",
       "      <td>2.2875</td>\n",
       "      <td>1.0</td>\n",
       "      <td>273.0</td>\n",
       "      <td>21.0</td>\n",
       "      <td>396.90</td>\n",
       "      <td>9.08</td>\n",
       "      <td>20.6</td>\n",
       "    </tr>\n",
       "    <tr>\n",
       "      <th>503</th>\n",
       "      <td>0.06076</td>\n",
       "      <td>0.0</td>\n",
       "      <td>11.93</td>\n",
       "      <td>0.0</td>\n",
       "      <td>0.573</td>\n",
       "      <td>6.976</td>\n",
       "      <td>91.0</td>\n",
       "      <td>2.1675</td>\n",
       "      <td>1.0</td>\n",
       "      <td>273.0</td>\n",
       "      <td>21.0</td>\n",
       "      <td>396.90</td>\n",
       "      <td>5.64</td>\n",
       "      <td>23.9</td>\n",
       "    </tr>\n",
       "    <tr>\n",
       "      <th>504</th>\n",
       "      <td>0.10959</td>\n",
       "      <td>0.0</td>\n",
       "      <td>11.93</td>\n",
       "      <td>0.0</td>\n",
       "      <td>0.573</td>\n",
       "      <td>6.794</td>\n",
       "      <td>89.3</td>\n",
       "      <td>2.3889</td>\n",
       "      <td>1.0</td>\n",
       "      <td>273.0</td>\n",
       "      <td>21.0</td>\n",
       "      <td>393.45</td>\n",
       "      <td>6.48</td>\n",
       "      <td>22.0</td>\n",
       "    </tr>\n",
       "    <tr>\n",
       "      <th>505</th>\n",
       "      <td>0.04741</td>\n",
       "      <td>0.0</td>\n",
       "      <td>11.93</td>\n",
       "      <td>0.0</td>\n",
       "      <td>0.573</td>\n",
       "      <td>6.030</td>\n",
       "      <td>80.8</td>\n",
       "      <td>2.5050</td>\n",
       "      <td>1.0</td>\n",
       "      <td>273.0</td>\n",
       "      <td>21.0</td>\n",
       "      <td>396.90</td>\n",
       "      <td>7.88</td>\n",
       "      <td>11.9</td>\n",
       "    </tr>\n",
       "  </tbody>\n",
       "</table>\n",
       "<p>506 rows × 14 columns</p>\n",
       "</div>"
      ],
      "text/plain": [
       "        CRIM    ZN  INDUS  CHAS    NOX     RM   AGE     DIS  RAD    TAX  \\\n",
       "0    0.00632  18.0   2.31   0.0  0.538  6.575  65.2  4.0900  1.0  296.0   \n",
       "1    0.02731   0.0   7.07   0.0  0.469  6.421  78.9  4.9671  2.0  242.0   \n",
       "2    0.02729   0.0   7.07   0.0  0.469  7.185  61.1  4.9671  2.0  242.0   \n",
       "3    0.03237   0.0   2.18   0.0  0.458  6.998  45.8  6.0622  3.0  222.0   \n",
       "4    0.06905   0.0   2.18   0.0  0.458  7.147  54.2  6.0622  3.0  222.0   \n",
       "..       ...   ...    ...   ...    ...    ...   ...     ...  ...    ...   \n",
       "501  0.06263   0.0  11.93   0.0  0.573  6.593  69.1  2.4786  1.0  273.0   \n",
       "502  0.04527   0.0  11.93   0.0  0.573  6.120  76.7  2.2875  1.0  273.0   \n",
       "503  0.06076   0.0  11.93   0.0  0.573  6.976  91.0  2.1675  1.0  273.0   \n",
       "504  0.10959   0.0  11.93   0.0  0.573  6.794  89.3  2.3889  1.0  273.0   \n",
       "505  0.04741   0.0  11.93   0.0  0.573  6.030  80.8  2.5050  1.0  273.0   \n",
       "\n",
       "     PTRATIO       B  LSTAT  House Price  \n",
       "0       15.3  396.90   4.98         24.0  \n",
       "1       17.8  396.90   9.14         21.6  \n",
       "2       17.8  392.83   4.03         34.7  \n",
       "3       18.7  394.63   2.94         33.4  \n",
       "4       18.7  396.90   5.33         36.2  \n",
       "..       ...     ...    ...          ...  \n",
       "501     21.0  391.99   9.67         22.4  \n",
       "502     21.0  396.90   9.08         20.6  \n",
       "503     21.0  396.90   5.64         23.9  \n",
       "504     21.0  393.45   6.48         22.0  \n",
       "505     21.0  396.90   7.88         11.9  \n",
       "\n",
       "[506 rows x 14 columns]"
      ]
     },
     "execution_count": 4,
     "metadata": {},
     "output_type": "execute_result"
    }
   ],
   "source": [
    "boston_pd"
   ]
  },
  {
   "cell_type": "code",
   "execution_count": 5,
   "id": "ea820f59",
   "metadata": {
    "ExecuteTime": {
     "end_time": "2022-02-16T07:58:14.645044Z",
     "start_time": "2022-02-16T07:58:14.630085Z"
    }
   },
   "outputs": [],
   "source": [
    "# input \n",
    "X = boston_pd.iloc[:, :-1] \n",
    "\n",
    "#output \n",
    "Y = boston_pd.iloc[:, -1] "
   ]
  },
  {
   "cell_type": "code",
   "execution_count": 6,
   "id": "828fda15",
   "metadata": {
    "ExecuteTime": {
     "end_time": "2022-02-16T07:58:14.848792Z",
     "start_time": "2022-02-16T07:58:14.646043Z"
    }
   },
   "outputs": [],
   "source": [
    "X_train,X_test,y_train,y_test= train_test_split(X,Y,test_size=0.3)"
   ]
  },
  {
   "cell_type": "markdown",
   "id": "1b3affb4",
   "metadata": {},
   "source": [
    "# Scaling the Data"
   ]
  },
  {
   "cell_type": "code",
   "execution_count": 7,
   "id": "609f5ecf",
   "metadata": {
    "ExecuteTime": {
     "end_time": "2022-02-16T07:58:14.958836Z",
     "start_time": "2022-02-16T07:58:14.855771Z"
    }
   },
   "outputs": [],
   "source": [
    "scale= StandardScaler()\n",
    "x_train= scale.fit_transform(X_train)\n",
    "x_test= scale.fit_transform(X_test)"
   ]
  },
  {
   "cell_type": "code",
   "execution_count": 8,
   "id": "7bb38777",
   "metadata": {
    "ExecuteTime": {
     "end_time": "2022-02-16T07:58:15.116768Z",
     "start_time": "2022-02-16T07:58:14.961821Z"
    }
   },
   "outputs": [],
   "source": [
    "x_train_norm = normalize(X_train)\n",
    "x_test_norm = normalize(X_test)"
   ]
  },
  {
   "cell_type": "code",
   "execution_count": 9,
   "id": "5b8076c5",
   "metadata": {
    "ExecuteTime": {
     "end_time": "2022-02-16T07:58:15.210500Z",
     "start_time": "2022-02-16T07:58:15.122535Z"
    }
   },
   "outputs": [],
   "source": [
    "x_train_norm= pd.DataFrame(x_train_norm)\n",
    "x_test_norm= pd.DataFrame(x_test_norm)"
   ]
  },
  {
   "cell_type": "code",
   "execution_count": 10,
   "id": "972a83a5",
   "metadata": {
    "ExecuteTime": {
     "end_time": "2022-02-16T07:58:15.319722Z",
     "start_time": "2022-02-16T07:58:15.216481Z"
    }
   },
   "outputs": [
    {
     "data": {
      "text/html": [
       "<div>\n",
       "<style scoped>\n",
       "    .dataframe tbody tr th:only-of-type {\n",
       "        vertical-align: middle;\n",
       "    }\n",
       "\n",
       "    .dataframe tbody tr th {\n",
       "        vertical-align: top;\n",
       "    }\n",
       "\n",
       "    .dataframe thead th {\n",
       "        text-align: right;\n",
       "    }\n",
       "</style>\n",
       "<table border=\"1\" class=\"dataframe\">\n",
       "  <thead>\n",
       "    <tr style=\"text-align: right;\">\n",
       "      <th></th>\n",
       "      <th>0</th>\n",
       "      <th>1</th>\n",
       "      <th>2</th>\n",
       "      <th>3</th>\n",
       "      <th>4</th>\n",
       "      <th>5</th>\n",
       "      <th>6</th>\n",
       "      <th>7</th>\n",
       "      <th>8</th>\n",
       "      <th>9</th>\n",
       "      <th>10</th>\n",
       "      <th>11</th>\n",
       "      <th>12</th>\n",
       "    </tr>\n",
       "  </thead>\n",
       "  <tbody>\n",
       "    <tr>\n",
       "      <th>0</th>\n",
       "      <td>0.011173</td>\n",
       "      <td>0.0</td>\n",
       "      <td>0.023200</td>\n",
       "      <td>0.0</td>\n",
       "      <td>0.000888</td>\n",
       "      <td>0.008294</td>\n",
       "      <td>0.126636</td>\n",
       "      <td>0.002212</td>\n",
       "      <td>0.030762</td>\n",
       "      <td>0.853641</td>\n",
       "      <td>0.025891</td>\n",
       "      <td>0.502418</td>\n",
       "      <td>0.021943</td>\n",
       "    </tr>\n",
       "    <tr>\n",
       "      <th>1</th>\n",
       "      <td>0.000578</td>\n",
       "      <td>0.0</td>\n",
       "      <td>0.015017</td>\n",
       "      <td>0.0</td>\n",
       "      <td>0.001003</td>\n",
       "      <td>0.011614</td>\n",
       "      <td>0.151183</td>\n",
       "      <td>0.009606</td>\n",
       "      <td>0.010174</td>\n",
       "      <td>0.583979</td>\n",
       "      <td>0.039882</td>\n",
       "      <td>0.795860</td>\n",
       "      <td>0.023888</td>\n",
       "    </tr>\n",
       "    <tr>\n",
       "      <th>2</th>\n",
       "      <td>0.000490</td>\n",
       "      <td>0.0</td>\n",
       "      <td>0.036901</td>\n",
       "      <td>0.0</td>\n",
       "      <td>0.001052</td>\n",
       "      <td>0.010408</td>\n",
       "      <td>0.157784</td>\n",
       "      <td>0.002717</td>\n",
       "      <td>0.006743</td>\n",
       "      <td>0.736662</td>\n",
       "      <td>0.035737</td>\n",
       "      <td>0.654196</td>\n",
       "      <td>0.040727</td>\n",
       "    </tr>\n",
       "    <tr>\n",
       "      <th>3</th>\n",
       "      <td>0.004970</td>\n",
       "      <td>0.0</td>\n",
       "      <td>0.024332</td>\n",
       "      <td>0.0</td>\n",
       "      <td>0.000965</td>\n",
       "      <td>0.006672</td>\n",
       "      <td>0.122872</td>\n",
       "      <td>0.002356</td>\n",
       "      <td>0.032264</td>\n",
       "      <td>0.895324</td>\n",
       "      <td>0.027155</td>\n",
       "      <td>0.424849</td>\n",
       "      <td>0.018821</td>\n",
       "    </tr>\n",
       "    <tr>\n",
       "      <th>4</th>\n",
       "      <td>0.018505</td>\n",
       "      <td>0.0</td>\n",
       "      <td>0.023368</td>\n",
       "      <td>0.0</td>\n",
       "      <td>0.000793</td>\n",
       "      <td>0.008042</td>\n",
       "      <td>0.113611</td>\n",
       "      <td>0.002519</td>\n",
       "      <td>0.030985</td>\n",
       "      <td>0.859827</td>\n",
       "      <td>0.026079</td>\n",
       "      <td>0.494878</td>\n",
       "      <td>0.016925</td>\n",
       "    </tr>\n",
       "    <tr>\n",
       "      <th>...</th>\n",
       "      <td>...</td>\n",
       "      <td>...</td>\n",
       "      <td>...</td>\n",
       "      <td>...</td>\n",
       "      <td>...</td>\n",
       "      <td>...</td>\n",
       "      <td>...</td>\n",
       "      <td>...</td>\n",
       "      <td>...</td>\n",
       "      <td>...</td>\n",
       "      <td>...</td>\n",
       "      <td>...</td>\n",
       "      <td>...</td>\n",
       "    </tr>\n",
       "    <tr>\n",
       "      <th>349</th>\n",
       "      <td>0.009945</td>\n",
       "      <td>0.0</td>\n",
       "      <td>0.024313</td>\n",
       "      <td>0.0</td>\n",
       "      <td>0.000802</td>\n",
       "      <td>0.007545</td>\n",
       "      <td>0.131503</td>\n",
       "      <td>0.001954</td>\n",
       "      <td>0.032238</td>\n",
       "      <td>0.894596</td>\n",
       "      <td>0.027133</td>\n",
       "      <td>0.422636</td>\n",
       "      <td>0.035461</td>\n",
       "    </tr>\n",
       "    <tr>\n",
       "      <th>350</th>\n",
       "      <td>0.000281</td>\n",
       "      <td>0.0</td>\n",
       "      <td>0.021827</td>\n",
       "      <td>0.0</td>\n",
       "      <td>0.001008</td>\n",
       "      <td>0.012142</td>\n",
       "      <td>0.045962</td>\n",
       "      <td>0.008132</td>\n",
       "      <td>0.008244</td>\n",
       "      <td>0.570923</td>\n",
       "      <td>0.038336</td>\n",
       "      <td>0.818049</td>\n",
       "      <td>0.022404</td>\n",
       "    </tr>\n",
       "    <tr>\n",
       "      <th>351</th>\n",
       "      <td>0.000315</td>\n",
       "      <td>0.0</td>\n",
       "      <td>0.015383</td>\n",
       "      <td>0.0</td>\n",
       "      <td>0.000997</td>\n",
       "      <td>0.013733</td>\n",
       "      <td>0.014693</td>\n",
       "      <td>0.012736</td>\n",
       "      <td>0.006678</td>\n",
       "      <td>0.518692</td>\n",
       "      <td>0.039848</td>\n",
       "      <td>0.853437</td>\n",
       "      <td>0.012934</td>\n",
       "    </tr>\n",
       "    <tr>\n",
       "      <th>352</th>\n",
       "      <td>0.000902</td>\n",
       "      <td>0.0</td>\n",
       "      <td>0.012660</td>\n",
       "      <td>0.0</td>\n",
       "      <td>0.001029</td>\n",
       "      <td>0.013379</td>\n",
       "      <td>0.043697</td>\n",
       "      <td>0.006892</td>\n",
       "      <td>0.016335</td>\n",
       "      <td>0.626871</td>\n",
       "      <td>0.035529</td>\n",
       "      <td>0.776625</td>\n",
       "      <td>0.007678</td>\n",
       "    </tr>\n",
       "    <tr>\n",
       "      <th>353</th>\n",
       "      <td>0.003509</td>\n",
       "      <td>0.0</td>\n",
       "      <td>0.020582</td>\n",
       "      <td>0.0</td>\n",
       "      <td>0.001360</td>\n",
       "      <td>0.015044</td>\n",
       "      <td>0.207332</td>\n",
       "      <td>0.010088</td>\n",
       "      <td>0.010114</td>\n",
       "      <td>0.776232</td>\n",
       "      <td>0.053097</td>\n",
       "      <td>0.588116</td>\n",
       "      <td>0.070063</td>\n",
       "    </tr>\n",
       "  </tbody>\n",
       "</table>\n",
       "<p>354 rows × 13 columns</p>\n",
       "</div>"
      ],
      "text/plain": [
       "           0    1         2    3         4         5         6         7   \\\n",
       "0    0.011173  0.0  0.023200  0.0  0.000888  0.008294  0.126636  0.002212   \n",
       "1    0.000578  0.0  0.015017  0.0  0.001003  0.011614  0.151183  0.009606   \n",
       "2    0.000490  0.0  0.036901  0.0  0.001052  0.010408  0.157784  0.002717   \n",
       "3    0.004970  0.0  0.024332  0.0  0.000965  0.006672  0.122872  0.002356   \n",
       "4    0.018505  0.0  0.023368  0.0  0.000793  0.008042  0.113611  0.002519   \n",
       "..        ...  ...       ...  ...       ...       ...       ...       ...   \n",
       "349  0.009945  0.0  0.024313  0.0  0.000802  0.007545  0.131503  0.001954   \n",
       "350  0.000281  0.0  0.021827  0.0  0.001008  0.012142  0.045962  0.008132   \n",
       "351  0.000315  0.0  0.015383  0.0  0.000997  0.013733  0.014693  0.012736   \n",
       "352  0.000902  0.0  0.012660  0.0  0.001029  0.013379  0.043697  0.006892   \n",
       "353  0.003509  0.0  0.020582  0.0  0.001360  0.015044  0.207332  0.010088   \n",
       "\n",
       "           8         9         10        11        12  \n",
       "0    0.030762  0.853641  0.025891  0.502418  0.021943  \n",
       "1    0.010174  0.583979  0.039882  0.795860  0.023888  \n",
       "2    0.006743  0.736662  0.035737  0.654196  0.040727  \n",
       "3    0.032264  0.895324  0.027155  0.424849  0.018821  \n",
       "4    0.030985  0.859827  0.026079  0.494878  0.016925  \n",
       "..        ...       ...       ...       ...       ...  \n",
       "349  0.032238  0.894596  0.027133  0.422636  0.035461  \n",
       "350  0.008244  0.570923  0.038336  0.818049  0.022404  \n",
       "351  0.006678  0.518692  0.039848  0.853437  0.012934  \n",
       "352  0.016335  0.626871  0.035529  0.776625  0.007678  \n",
       "353  0.010114  0.776232  0.053097  0.588116  0.070063  \n",
       "\n",
       "[354 rows x 13 columns]"
      ]
     },
     "execution_count": 10,
     "metadata": {},
     "output_type": "execute_result"
    }
   ],
   "source": [
    "x_train_norm"
   ]
  },
  {
   "cell_type": "code",
   "execution_count": 11,
   "id": "563845ba",
   "metadata": {
    "ExecuteTime": {
     "end_time": "2022-02-16T07:58:15.428615Z",
     "start_time": "2022-02-16T07:58:15.321725Z"
    }
   },
   "outputs": [
    {
     "data": {
      "text/html": [
       "<div>\n",
       "<style scoped>\n",
       "    .dataframe tbody tr th:only-of-type {\n",
       "        vertical-align: middle;\n",
       "    }\n",
       "\n",
       "    .dataframe tbody tr th {\n",
       "        vertical-align: top;\n",
       "    }\n",
       "\n",
       "    .dataframe thead th {\n",
       "        text-align: right;\n",
       "    }\n",
       "</style>\n",
       "<table border=\"1\" class=\"dataframe\">\n",
       "  <thead>\n",
       "    <tr style=\"text-align: right;\">\n",
       "      <th></th>\n",
       "      <th>0</th>\n",
       "      <th>1</th>\n",
       "      <th>2</th>\n",
       "      <th>3</th>\n",
       "      <th>4</th>\n",
       "      <th>5</th>\n",
       "      <th>6</th>\n",
       "      <th>7</th>\n",
       "      <th>8</th>\n",
       "      <th>9</th>\n",
       "      <th>10</th>\n",
       "      <th>11</th>\n",
       "      <th>12</th>\n",
       "    </tr>\n",
       "  </thead>\n",
       "  <tbody>\n",
       "    <tr>\n",
       "      <th>0</th>\n",
       "      <td>0.000327</td>\n",
       "      <td>0.043752</td>\n",
       "      <td>0.011654</td>\n",
       "      <td>0.0</td>\n",
       "      <td>0.000857</td>\n",
       "      <td>0.012793</td>\n",
       "      <td>0.097646</td>\n",
       "      <td>0.015565</td>\n",
       "      <td>0.013921</td>\n",
       "      <td>0.656278</td>\n",
       "      <td>0.037985</td>\n",
       "      <td>0.745193</td>\n",
       "      <td>0.018933</td>\n",
       "    </tr>\n",
       "    <tr>\n",
       "      <th>1</th>\n",
       "      <td>0.000214</td>\n",
       "      <td>0.000000</td>\n",
       "      <td>0.059108</td>\n",
       "      <td>0.0</td>\n",
       "      <td>0.001339</td>\n",
       "      <td>0.013737</td>\n",
       "      <td>0.214079</td>\n",
       "      <td>0.004809</td>\n",
       "      <td>0.004609</td>\n",
       "      <td>0.433227</td>\n",
       "      <td>0.044014</td>\n",
       "      <td>0.871270</td>\n",
       "      <td>0.041318</td>\n",
       "    </tr>\n",
       "    <tr>\n",
       "      <th>2</th>\n",
       "      <td>0.000306</td>\n",
       "      <td>0.000000</td>\n",
       "      <td>0.017861</td>\n",
       "      <td>0.0</td>\n",
       "      <td>0.000976</td>\n",
       "      <td>0.010577</td>\n",
       "      <td>0.157372</td>\n",
       "      <td>0.004395</td>\n",
       "      <td>0.010706</td>\n",
       "      <td>0.770803</td>\n",
       "      <td>0.031760</td>\n",
       "      <td>0.615411</td>\n",
       "      <td>0.028120</td>\n",
       "    </tr>\n",
       "    <tr>\n",
       "      <th>3</th>\n",
       "      <td>0.004268</td>\n",
       "      <td>0.000000</td>\n",
       "      <td>0.036118</td>\n",
       "      <td>0.0</td>\n",
       "      <td>0.001116</td>\n",
       "      <td>0.010846</td>\n",
       "      <td>0.179483</td>\n",
       "      <td>0.004406</td>\n",
       "      <td>0.009223</td>\n",
       "      <td>0.743388</td>\n",
       "      <td>0.027116</td>\n",
       "      <td>0.642173</td>\n",
       "      <td>0.022191</td>\n",
       "    </tr>\n",
       "    <tr>\n",
       "      <th>4</th>\n",
       "      <td>0.000039</td>\n",
       "      <td>0.205016</td>\n",
       "      <td>0.004601</td>\n",
       "      <td>0.0</td>\n",
       "      <td>0.000934</td>\n",
       "      <td>0.015326</td>\n",
       "      <td>0.082234</td>\n",
       "      <td>0.027624</td>\n",
       "      <td>0.011390</td>\n",
       "      <td>0.425977</td>\n",
       "      <td>0.038725</td>\n",
       "      <td>0.875782</td>\n",
       "      <td>0.010251</td>\n",
       "    </tr>\n",
       "    <tr>\n",
       "      <th>...</th>\n",
       "      <td>...</td>\n",
       "      <td>...</td>\n",
       "      <td>...</td>\n",
       "      <td>...</td>\n",
       "      <td>...</td>\n",
       "      <td>...</td>\n",
       "      <td>...</td>\n",
       "      <td>...</td>\n",
       "      <td>...</td>\n",
       "      <td>...</td>\n",
       "      <td>...</td>\n",
       "      <td>...</td>\n",
       "      <td>...</td>\n",
       "    </tr>\n",
       "    <tr>\n",
       "      <th>147</th>\n",
       "      <td>0.023603</td>\n",
       "      <td>0.000000</td>\n",
       "      <td>0.023095</td>\n",
       "      <td>0.0</td>\n",
       "      <td>0.000852</td>\n",
       "      <td>0.005280</td>\n",
       "      <td>0.127598</td>\n",
       "      <td>0.001451</td>\n",
       "      <td>0.030624</td>\n",
       "      <td>0.849805</td>\n",
       "      <td>0.025775</td>\n",
       "      <td>0.506438</td>\n",
       "      <td>0.048449</td>\n",
       "    </tr>\n",
       "    <tr>\n",
       "      <th>148</th>\n",
       "      <td>0.001090</td>\n",
       "      <td>0.000000</td>\n",
       "      <td>0.012587</td>\n",
       "      <td>0.0</td>\n",
       "      <td>0.001023</td>\n",
       "      <td>0.012142</td>\n",
       "      <td>0.138254</td>\n",
       "      <td>0.007454</td>\n",
       "      <td>0.016241</td>\n",
       "      <td>0.623261</td>\n",
       "      <td>0.035325</td>\n",
       "      <td>0.768113</td>\n",
       "      <td>0.023651</td>\n",
       "    </tr>\n",
       "    <tr>\n",
       "      <th>149</th>\n",
       "      <td>0.012028</td>\n",
       "      <td>0.000000</td>\n",
       "      <td>0.023581</td>\n",
       "      <td>0.0</td>\n",
       "      <td>0.000822</td>\n",
       "      <td>0.008098</td>\n",
       "      <td>0.130283</td>\n",
       "      <td>0.001523</td>\n",
       "      <td>0.031268</td>\n",
       "      <td>0.867683</td>\n",
       "      <td>0.026317</td>\n",
       "      <td>0.477030</td>\n",
       "      <td>0.012416</td>\n",
       "    </tr>\n",
       "    <tr>\n",
       "      <th>150</th>\n",
       "      <td>0.000247</td>\n",
       "      <td>0.000000</td>\n",
       "      <td>0.005900</td>\n",
       "      <td>0.0</td>\n",
       "      <td>0.000909</td>\n",
       "      <td>0.016474</td>\n",
       "      <td>0.155162</td>\n",
       "      <td>0.007136</td>\n",
       "      <td>0.004083</td>\n",
       "      <td>0.563485</td>\n",
       "      <td>0.036749</td>\n",
       "      <td>0.810315</td>\n",
       "      <td>0.008595</td>\n",
       "    </tr>\n",
       "    <tr>\n",
       "      <th>151</th>\n",
       "      <td>0.007043</td>\n",
       "      <td>0.000000</td>\n",
       "      <td>0.026823</td>\n",
       "      <td>0.0</td>\n",
       "      <td>0.001057</td>\n",
       "      <td>0.009670</td>\n",
       "      <td>0.128188</td>\n",
       "      <td>0.003610</td>\n",
       "      <td>0.035567</td>\n",
       "      <td>0.986972</td>\n",
       "      <td>0.029935</td>\n",
       "      <td>0.075460</td>\n",
       "      <td>0.026868</td>\n",
       "    </tr>\n",
       "  </tbody>\n",
       "</table>\n",
       "<p>152 rows × 13 columns</p>\n",
       "</div>"
      ],
      "text/plain": [
       "           0         1         2    3         4         5         6   \\\n",
       "0    0.000327  0.043752  0.011654  0.0  0.000857  0.012793  0.097646   \n",
       "1    0.000214  0.000000  0.059108  0.0  0.001339  0.013737  0.214079   \n",
       "2    0.000306  0.000000  0.017861  0.0  0.000976  0.010577  0.157372   \n",
       "3    0.004268  0.000000  0.036118  0.0  0.001116  0.010846  0.179483   \n",
       "4    0.000039  0.205016  0.004601  0.0  0.000934  0.015326  0.082234   \n",
       "..        ...       ...       ...  ...       ...       ...       ...   \n",
       "147  0.023603  0.000000  0.023095  0.0  0.000852  0.005280  0.127598   \n",
       "148  0.001090  0.000000  0.012587  0.0  0.001023  0.012142  0.138254   \n",
       "149  0.012028  0.000000  0.023581  0.0  0.000822  0.008098  0.130283   \n",
       "150  0.000247  0.000000  0.005900  0.0  0.000909  0.016474  0.155162   \n",
       "151  0.007043  0.000000  0.026823  0.0  0.001057  0.009670  0.128188   \n",
       "\n",
       "           7         8         9         10        11        12  \n",
       "0    0.015565  0.013921  0.656278  0.037985  0.745193  0.018933  \n",
       "1    0.004809  0.004609  0.433227  0.044014  0.871270  0.041318  \n",
       "2    0.004395  0.010706  0.770803  0.031760  0.615411  0.028120  \n",
       "3    0.004406  0.009223  0.743388  0.027116  0.642173  0.022191  \n",
       "4    0.027624  0.011390  0.425977  0.038725  0.875782  0.010251  \n",
       "..        ...       ...       ...       ...       ...       ...  \n",
       "147  0.001451  0.030624  0.849805  0.025775  0.506438  0.048449  \n",
       "148  0.007454  0.016241  0.623261  0.035325  0.768113  0.023651  \n",
       "149  0.001523  0.031268  0.867683  0.026317  0.477030  0.012416  \n",
       "150  0.007136  0.004083  0.563485  0.036749  0.810315  0.008595  \n",
       "151  0.003610  0.035567  0.986972  0.029935  0.075460  0.026868  \n",
       "\n",
       "[152 rows x 13 columns]"
      ]
     },
     "execution_count": 11,
     "metadata": {},
     "output_type": "execute_result"
    }
   ],
   "source": [
    "x_test_norm"
   ]
  },
  {
   "cell_type": "markdown",
   "id": "abe5e16c",
   "metadata": {},
   "source": [
    "# Ridge Regression"
   ]
  },
  {
   "cell_type": "code",
   "execution_count": 12,
   "id": "9959b0ff",
   "metadata": {
    "ExecuteTime": {
     "end_time": "2022-02-16T07:58:16.380241Z",
     "start_time": "2022-02-16T07:58:15.430480Z"
    }
   },
   "outputs": [
    {
     "data": {
      "text/plain": [
       "Ridge(alpha=10)"
      ]
     },
     "execution_count": 12,
     "metadata": {},
     "output_type": "execute_result"
    }
   ],
   "source": [
    "ridge_model= Ridge(alpha=10)\n",
    "ridge_model.fit(x_train_norm,y_train)"
   ]
  },
  {
   "cell_type": "code",
   "execution_count": 13,
   "id": "8e15cf2c",
   "metadata": {
    "ExecuteTime": {
     "end_time": "2022-02-16T07:58:16.395562Z",
     "start_time": "2022-02-16T07:58:16.383993Z"
    }
   },
   "outputs": [],
   "source": [
    "test_pred_Ridge=ridge_model.predict(x_test_norm)"
   ]
  },
  {
   "cell_type": "code",
   "execution_count": 14,
   "id": "8001575b",
   "metadata": {
    "ExecuteTime": {
     "end_time": "2022-02-16T07:58:16.487718Z",
     "start_time": "2022-02-16T07:58:16.398948Z"
    }
   },
   "outputs": [],
   "source": [
    "MAE= mean_absolute_error(y_test,test_pred_Ridge)\n",
    "MSE= mean_squared_error(y_test,test_pred_Ridge)\n",
    "RMSE= np.sqrt(MSE)"
   ]
  },
  {
   "cell_type": "code",
   "execution_count": 15,
   "id": "4d9c761e",
   "metadata": {
    "ExecuteTime": {
     "end_time": "2022-02-16T07:58:16.579929Z",
     "start_time": "2022-02-16T07:58:16.495706Z"
    }
   },
   "outputs": [
    {
     "name": "stdout",
     "output_type": "stream",
     "text": [
      "Mean Absolute Error: 6.152192104918494  Root mean squared error: 8.994772093786509\n"
     ]
    }
   ],
   "source": [
    "print('Mean Absolute Error:',MAE,' Root mean squared error:',RMSE)"
   ]
  },
  {
   "cell_type": "code",
   "execution_count": 16,
   "id": "25e837e2",
   "metadata": {
    "ExecuteTime": {
     "end_time": "2022-02-16T07:58:16.671907Z",
     "start_time": "2022-02-16T07:58:16.583810Z"
    }
   },
   "outputs": [
    {
     "name": "stdout",
     "output_type": "stream",
     "text": [
      "    Columns  Coefficient Estimate\n",
      "0      CRIM             -0.800941\n",
      "1        ZN              3.299416\n",
      "2     INDUS             -0.943859\n",
      "3      CHAS              0.013091\n",
      "4       NOX             -0.001783\n",
      "5        RM              0.378921\n",
      "6       AGE             -1.846471\n",
      "7       DIS              0.145430\n",
      "8       RAD             -0.298992\n",
      "9       TAX             -9.019180\n",
      "10  PTRATIO             -0.036620\n",
      "11        B              9.620144\n",
      "12    LSTAT             -1.822863\n"
     ]
    }
   ],
   "source": [
    "# Putting together the coefficient and their corrsponding variable names \n",
    "ridge_model_coefficient = pd.DataFrame() \n",
    "ridge_model_coefficient[\"Columns\"] = X_train.columns \n",
    "ridge_model_coefficient['Coefficient Estimate'] = pd.Series(ridge_model.coef_) \n",
    "print(ridge_model_coefficient) "
   ]
  },
  {
   "cell_type": "code",
   "execution_count": 17,
   "id": "22d1a954",
   "metadata": {
    "ExecuteTime": {
     "end_time": "2022-02-16T07:58:16.872545Z",
     "start_time": "2022-02-16T07:58:16.674686Z"
    }
   },
   "outputs": [
    {
     "data": {
      "text/plain": [
       "5.383297069426948"
      ]
     },
     "execution_count": 17,
     "metadata": {},
     "output_type": "execute_result"
    }
   ],
   "source": [
    "# Training Set Performance\n",
    "train_ridge_pred= ridge_model.predict(x_train_norm)\n",
    "MAE= mean_absolute_error(y_train,train_ridge_pred)\n",
    "MAE"
   ]
  },
  {
   "cell_type": "markdown",
   "id": "cb6446d8",
   "metadata": {},
   "source": [
    "# Choosing an alpha value with Cross-Validation"
   ]
  },
  {
   "cell_type": "code",
   "execution_count": 18,
   "id": "25d6dc8e",
   "metadata": {
    "ExecuteTime": {
     "end_time": "2022-02-16T07:58:16.951288Z",
     "start_time": "2022-02-16T07:58:16.877534Z"
    }
   },
   "outputs": [],
   "source": [
    "# See all options: sklearn.metrics.SCORERS.keys()\n",
    "ridge_cv_model = RidgeCV(alphas=(0.1, 1.0, 10.0),scoring='neg_mean_absolute_error')"
   ]
  },
  {
   "cell_type": "code",
   "execution_count": 19,
   "id": "2f788e69",
   "metadata": {
    "ExecuteTime": {
     "end_time": "2022-02-16T07:58:17.452116Z",
     "start_time": "2022-02-16T07:58:16.955159Z"
    }
   },
   "outputs": [
    {
     "data": {
      "text/plain": [
       "RidgeCV(alphas=array([ 0.1,  1. , 10. ]), scoring='neg_mean_absolute_error')"
      ]
     },
     "execution_count": 19,
     "metadata": {},
     "output_type": "execute_result"
    }
   ],
   "source": [
    "# The more alpha options you pass, the longer this will take.\n",
    "ridge_cv_model.fit(x_train_norm,y_train)"
   ]
  },
  {
   "cell_type": "code",
   "execution_count": 20,
   "id": "ba0edfea",
   "metadata": {
    "ExecuteTime": {
     "end_time": "2022-02-16T07:58:17.562570Z",
     "start_time": "2022-02-16T07:58:17.453115Z"
    }
   },
   "outputs": [
    {
     "data": {
      "text/plain": [
       "0.1"
      ]
     },
     "execution_count": 20,
     "metadata": {},
     "output_type": "execute_result"
    }
   ],
   "source": [
    "ridge_cv_model.alpha_"
   ]
  },
  {
   "cell_type": "code",
   "execution_count": 21,
   "id": "97f35935",
   "metadata": {
    "ExecuteTime": {
     "end_time": "2022-02-16T07:58:17.639379Z",
     "start_time": "2022-02-16T07:58:17.563878Z"
    }
   },
   "outputs": [],
   "source": [
    "ridgecv_test_predictions = ridge_cv_model.predict(x_test_norm)"
   ]
  },
  {
   "cell_type": "code",
   "execution_count": 22,
   "id": "d63750f8",
   "metadata": {
    "ExecuteTime": {
     "end_time": "2022-02-16T07:58:17.716997Z",
     "start_time": "2022-02-16T07:58:17.646095Z"
    }
   },
   "outputs": [],
   "source": [
    "MAE = mean_absolute_error(y_test,ridgecv_test_predictions)\n",
    "MSE = mean_squared_error(y_test,ridgecv_test_predictions)\n",
    "RMSE = np.sqrt(MSE)"
   ]
  },
  {
   "cell_type": "code",
   "execution_count": 23,
   "id": "ac5f64df",
   "metadata": {
    "ExecuteTime": {
     "end_time": "2022-02-16T07:58:17.810322Z",
     "start_time": "2022-02-16T07:58:17.723920Z"
    }
   },
   "outputs": [
    {
     "name": "stdout",
     "output_type": "stream",
     "text": [
      "Mean Absolute Error: 5.5831927866968485  Root mean squared error: 8.27091193206256\n"
     ]
    }
   ],
   "source": [
    "print('Mean Absolute Error:',MAE,' Root mean squared error:',RMSE)"
   ]
  },
  {
   "cell_type": "code",
   "execution_count": 24,
   "id": "25a70c36",
   "metadata": {
    "ExecuteTime": {
     "end_time": "2022-02-16T07:58:17.887724Z",
     "start_time": "2022-02-16T07:58:17.814294Z"
    }
   },
   "outputs": [
    {
     "name": "stdout",
     "output_type": "stream",
     "text": [
      "    Columns  Coefficient Estimate\n",
      "0      CRIM            -32.126051\n",
      "1        ZN             26.816727\n",
      "2     INDUS            -28.419628\n",
      "3      CHAS              1.336002\n",
      "4       NOX              0.170013\n",
      "5        RM             19.923450\n",
      "6       AGE             -2.917384\n",
      "7       DIS            -13.057354\n",
      "8       RAD             13.068677\n",
      "9       TAX            -31.494042\n",
      "10  PTRATIO            -19.249580\n",
      "11        B             -3.650946\n",
      "12    LSTAT           -105.896648\n"
     ]
    }
   ],
   "source": [
    "# Putting together the coefficient and their corrsponding variable names \n",
    "ridgecv_model_coefficient = pd.DataFrame() \n",
    "ridgecv_model_coefficient[\"Columns\"] = X_train.columns \n",
    "ridgecv_model_coefficient['Coefficient Estimate'] = pd.Series(ridge_cv_model.coef_) \n",
    "print(ridgecv_model_coefficient) "
   ]
  },
  {
   "cell_type": "code",
   "execution_count": 25,
   "id": "31f8f6f7",
   "metadata": {
    "ExecuteTime": {
     "end_time": "2022-02-16T07:58:18.059334Z",
     "start_time": "2022-02-16T07:58:17.889734Z"
    }
   },
   "outputs": [
    {
     "data": {
      "text/plain": [
       "4.520433797340991"
      ]
     },
     "execution_count": 25,
     "metadata": {},
     "output_type": "execute_result"
    }
   ],
   "source": [
    "# Training Set Performance\n",
    "train_ridge_cv_pred= ridge_cv_model.predict(x_train_norm)\n",
    "MAE= mean_absolute_error(y_train,train_ridge_cv_pred)\n",
    "MAE"
   ]
  },
  {
   "cell_type": "markdown",
   "id": "1c8ca63e",
   "metadata": {},
   "source": [
    "# Lasso Regression"
   ]
  },
  {
   "cell_type": "code",
   "execution_count": 26,
   "id": "2ddd3749",
   "metadata": {
    "ExecuteTime": {
     "end_time": "2022-02-16T07:58:18.169532Z",
     "start_time": "2022-02-16T07:58:18.061328Z"
    }
   },
   "outputs": [],
   "source": [
    "# https://scikit-learn.org/stable/modules/generated/sklearn.linear_model.LassoCV.html\n",
    "#eps:Length of the path. eps=1e-3 means that alpha_min / alpha_max = 1e-3.\n",
    "lasso_model= LassoCV(eps=0.1,n_alphas=100,cv=5)"
   ]
  },
  {
   "cell_type": "code",
   "execution_count": 27,
   "id": "f1335fce",
   "metadata": {
    "ExecuteTime": {
     "end_time": "2022-02-16T07:58:18.450772Z",
     "start_time": "2022-02-16T07:58:18.176260Z"
    }
   },
   "outputs": [],
   "source": [
    "lasso_cv_model= lasso_model.fit(x_train_norm,y_train)"
   ]
  },
  {
   "cell_type": "code",
   "execution_count": 28,
   "id": "cc5edb38",
   "metadata": {
    "ExecuteTime": {
     "end_time": "2022-02-16T07:58:18.466794Z",
     "start_time": "2022-02-16T07:58:18.453765Z"
    }
   },
   "outputs": [
    {
     "data": {
      "text/plain": [
       "0.0950861943225897"
      ]
     },
     "execution_count": 28,
     "metadata": {},
     "output_type": "execute_result"
    }
   ],
   "source": [
    "lasso_cv_model.alpha_"
   ]
  },
  {
   "cell_type": "code",
   "execution_count": 29,
   "id": "677e5620",
   "metadata": {
    "ExecuteTime": {
     "end_time": "2022-02-16T07:58:18.543987Z",
     "start_time": "2022-02-16T07:58:18.467727Z"
    }
   },
   "outputs": [],
   "source": [
    "test_pred_lassocv= lasso_cv_model.predict(x_test_norm)"
   ]
  },
  {
   "cell_type": "code",
   "execution_count": 30,
   "id": "1a3a63fe",
   "metadata": {
    "ExecuteTime": {
     "end_time": "2022-02-16T07:58:18.621778Z",
     "start_time": "2022-02-16T07:58:18.544984Z"
    }
   },
   "outputs": [
    {
     "name": "stdout",
     "output_type": "stream",
     "text": [
      "Mean Absolute Error: 6.356666560982624  Root mean squared error: 9.183848463999148\n"
     ]
    }
   ],
   "source": [
    "MAE= mean_absolute_error(y_test,test_pred_lassocv)\n",
    "MSE= mean_squared_error(y_test,test_pred_lassocv)\n",
    "RMSE= np.sqrt(MSE)\n",
    "print('Mean Absolute Error:',MAE,' Root mean squared error:',RMSE)"
   ]
  },
  {
   "cell_type": "code",
   "execution_count": 31,
   "id": "8fb6f669",
   "metadata": {
    "ExecuteTime": {
     "end_time": "2022-02-16T07:58:18.716055Z",
     "start_time": "2022-02-16T07:58:18.622776Z"
    }
   },
   "outputs": [
    {
     "name": "stdout",
     "output_type": "stream",
     "text": [
      "    Columns  Coefficient Estimate\n",
      "0      CRIM             -0.000000\n",
      "1        ZN              0.000000\n",
      "2     INDUS             -0.000000\n",
      "3      CHAS              0.000000\n",
      "4       NOX             -0.000000\n",
      "5        RM              0.000000\n",
      "6       AGE             -0.000000\n",
      "7       DIS              0.000000\n",
      "8       RAD             -0.000000\n",
      "9       TAX            -24.751616\n",
      "10  PTRATIO             -0.000000\n",
      "11        B              3.367288\n",
      "12    LSTAT             -0.000000\n"
     ]
    }
   ],
   "source": [
    "# Putting together the coefficient and their corrsponding variable names \n",
    "lassocv_model_coefficient = pd.DataFrame() \n",
    "lassocv_model_coefficient[\"Columns\"] = X_train.columns \n",
    "lassocv_model_coefficient['Coefficient Estimate'] = pd.Series(lasso_cv_model.coef_) \n",
    "print(lassocv_model_coefficient) "
   ]
  },
  {
   "cell_type": "markdown",
   "id": "a31d7dc8",
   "metadata": {},
   "source": [
    "# Elastic Net"
   ]
  },
  {
   "cell_type": "code",
   "execution_count": 32,
   "id": "ad1e2f60",
   "metadata": {
    "ExecuteTime": {
     "end_time": "2022-02-16T07:58:18.792348Z",
     "start_time": "2022-02-16T07:58:18.723033Z"
    }
   },
   "outputs": [],
   "source": [
    "elastic_model= ElasticNetCV(l1_ratio=[.1, .5, .7,.9, .95, .99, 1],tol=0.01)"
   ]
  },
  {
   "cell_type": "code",
   "execution_count": 33,
   "id": "7d173fb6",
   "metadata": {
    "ExecuteTime": {
     "end_time": "2022-02-16T07:58:19.320870Z",
     "start_time": "2022-02-16T07:58:18.796263Z"
    }
   },
   "outputs": [
    {
     "data": {
      "text/plain": [
       "ElasticNetCV(l1_ratio=[0.1, 0.5, 0.7, 0.9, 0.95, 0.99, 1], tol=0.01)"
      ]
     },
     "execution_count": 33,
     "metadata": {},
     "output_type": "execute_result"
    }
   ],
   "source": [
    "elastic_model.fit(x_train_norm,y_train)"
   ]
  },
  {
   "cell_type": "code",
   "execution_count": 34,
   "id": "a6ba139c",
   "metadata": {
    "ExecuteTime": {
     "end_time": "2022-02-16T07:58:19.337071Z",
     "start_time": "2022-02-16T07:58:19.321844Z"
    }
   },
   "outputs": [
    {
     "data": {
      "text/plain": [
       "[0.1, 0.5, 0.7, 0.9, 0.95, 0.99, 1]"
      ]
     },
     "execution_count": 34,
     "metadata": {},
     "output_type": "execute_result"
    }
   ],
   "source": [
    "elastic_model.l1_ratio"
   ]
  },
  {
   "cell_type": "code",
   "execution_count": 35,
   "id": "a617dcb0",
   "metadata": {
    "ExecuteTime": {
     "end_time": "2022-02-16T07:58:19.413833Z",
     "start_time": "2022-02-16T07:58:19.337983Z"
    }
   },
   "outputs": [],
   "source": [
    "test_pred_elastic= elastic_model.predict(x_test_norm)"
   ]
  },
  {
   "cell_type": "code",
   "execution_count": 36,
   "id": "30a1c230",
   "metadata": {
    "ExecuteTime": {
     "end_time": "2022-02-16T07:58:19.489643Z",
     "start_time": "2022-02-16T07:58:19.414775Z"
    }
   },
   "outputs": [
    {
     "name": "stdout",
     "output_type": "stream",
     "text": [
      "Mean Absolute Error: 3.710447171956229  Root mean squared error: 5.807112262588805\n"
     ]
    }
   ],
   "source": [
    "MAE= mean_absolute_error(y_test,test_pred_elastic)\n",
    "MSE= mean_squared_error(y_test,test_pred_elastic)\n",
    "RMSE= np.sqrt(MSE)\n",
    "print('Mean Absolute Error:',MAE,' Root mean squared error:',RMSE)"
   ]
  },
  {
   "cell_type": "code",
   "execution_count": 37,
   "id": "fe973148",
   "metadata": {
    "ExecuteTime": {
     "end_time": "2022-02-16T07:58:19.567049Z",
     "start_time": "2022-02-16T07:58:19.491571Z"
    }
   },
   "outputs": [
    {
     "name": "stdout",
     "output_type": "stream",
     "text": [
      "    Columns  Coefficient Estimate\n",
      "0      CRIM            -85.227183\n",
      "1        ZN             17.571771\n",
      "2     INDUS            -17.890867\n",
      "3      CHAS              0.000000\n",
      "4       NOX             -0.000000\n",
      "5        RM           1854.755490\n",
      "6       AGE             -3.675359\n",
      "7       DIS           -401.599251\n",
      "8       RAD            105.867762\n",
      "9       TAX            -11.886823\n",
      "10  PTRATIO           -228.187122\n",
      "11        B              0.817169\n",
      "12    LSTAT           -275.685300\n"
     ]
    }
   ],
   "source": [
    "# Putting together the coefficient and their corrsponding variable names \n",
    "elastic_model_coefficient = pd.DataFrame() \n",
    "elastic_model_coefficient[\"Columns\"] = X_train.columns \n",
    "elastic_model_coefficient['Coefficient Estimate'] = pd.Series(elastic_model.coef_) \n",
    "print(elastic_model_coefficient) "
   ]
  },
  {
   "cell_type": "code",
   "execution_count": 38,
   "id": "d31730b4",
   "metadata": {
    "ExecuteTime": {
     "end_time": "2022-02-16T07:58:19.659424Z",
     "start_time": "2022-02-16T07:58:19.569966Z"
    }
   },
   "outputs": [
    {
     "data": {
      "text/plain": [
       "3.0889449828496236"
      ]
     },
     "execution_count": 38,
     "metadata": {},
     "output_type": "execute_result"
    }
   ],
   "source": [
    "# Training Set Performance\n",
    "train_pred_elastic= elastic_model.predict(x_train_norm)\n",
    "MAE= mean_absolute_error(y_train,train_pred_elastic)\n",
    "MAE"
   ]
  }
 ],
 "metadata": {
  "kernelspec": {
   "display_name": "Python 3 (ipykernel)",
   "language": "python",
   "name": "python3"
  },
  "language_info": {
   "codemirror_mode": {
    "name": "ipython",
    "version": 3
   },
   "file_extension": ".py",
   "mimetype": "text/x-python",
   "name": "python",
   "nbconvert_exporter": "python",
   "pygments_lexer": "ipython3",
   "version": "3.9.7"
  }
 },
 "nbformat": 4,
 "nbformat_minor": 5
}
